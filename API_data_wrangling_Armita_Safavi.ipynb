{
 "cells": [
  {
   "cell_type": "code",
   "execution_count": 1,
   "metadata": {},
   "outputs": [],
   "source": [
    "import quandl\n",
    "import requests"
   ]
  },
  {
   "cell_type": "code",
   "execution_count": 65,
   "metadata": {},
   "outputs": [
    {
     "data": {
      "text/plain": [
       "{'limit': None,\n",
       " 'transform': None,\n",
       " 'column_index': None,\n",
       " 'column_names': ['Date',\n",
       "  'Open',\n",
       "  'High',\n",
       "  'Low',\n",
       "  'Close',\n",
       "  'Change',\n",
       "  'Traded Volume',\n",
       "  'Turnover',\n",
       "  'Last Price of the Day',\n",
       "  'Daily Traded Units',\n",
       "  'Daily Turnover'],\n",
       " 'start_date': '2017-01-01',\n",
       " 'end_date': '2017-01-30',\n",
       " 'frequency': 'daily',\n",
       " 'data': [['2017-01-30',\n",
       "   35.38,\n",
       "   35.59,\n",
       "   34.95,\n",
       "   35.15,\n",
       "   None,\n",
       "   69603.0,\n",
       "   2457762.0,\n",
       "   None,\n",
       "   None,\n",
       "   None],\n",
       "  ['2017-01-27',\n",
       "   34.83,\n",
       "   35.43,\n",
       "   34.81,\n",
       "   35.3,\n",
       "   None,\n",
       "   69657.0,\n",
       "   2444913.0,\n",
       "   None,\n",
       "   None,\n",
       "   None],\n",
       "  ['2017-01-26',\n",
       "   35.07,\n",
       "   35.58,\n",
       "   34.8,\n",
       "   34.89,\n",
       "   None,\n",
       "   64103.0,\n",
       "   2249375.0,\n",
       "   None,\n",
       "   None,\n",
       "   None],\n",
       "  ['2017-01-25',\n",
       "   34.42,\n",
       "   34.86,\n",
       "   34.03,\n",
       "   34.83,\n",
       "   None,\n",
       "   56240.0,\n",
       "   1947147.0,\n",
       "   None,\n",
       "   None,\n",
       "   None],\n",
       "  ['2017-01-24',\n",
       "   34.0,\n",
       "   34.35,\n",
       "   33.85,\n",
       "   34.22,\n",
       "   None,\n",
       "   48797.0,\n",
       "   1666086.0,\n",
       "   None,\n",
       "   None,\n",
       "   None],\n",
       "  ['2017-01-23',\n",
       "   34.04,\n",
       "   34.12,\n",
       "   33.62,\n",
       "   34.06,\n",
       "   None,\n",
       "   55333.0,\n",
       "   1877957.0,\n",
       "   None,\n",
       "   None,\n",
       "   None],\n",
       "  ['2017-01-20',\n",
       "   34.54,\n",
       "   34.59,\n",
       "   34.05,\n",
       "   34.17,\n",
       "   None,\n",
       "   80246.0,\n",
       "   2743474.0,\n",
       "   None,\n",
       "   None,\n",
       "   None],\n",
       "  ['2017-01-19',\n",
       "   35.04,\n",
       "   35.04,\n",
       "   34.42,\n",
       "   34.5,\n",
       "   None,\n",
       "   73105.0,\n",
       "   2526731.0,\n",
       "   None,\n",
       "   None,\n",
       "   None],\n",
       "  ['2017-01-18',\n",
       "   35.04,\n",
       "   35.51,\n",
       "   34.8,\n",
       "   34.9,\n",
       "   None,\n",
       "   65931.0,\n",
       "   2311608.0,\n",
       "   None,\n",
       "   None,\n",
       "   None],\n",
       "  ['2017-01-17',\n",
       "   35.06,\n",
       "   35.19,\n",
       "   34.79,\n",
       "   34.99,\n",
       "   None,\n",
       "   39195.0,\n",
       "   1369857.0,\n",
       "   None,\n",
       "   None,\n",
       "   None],\n",
       "  ['2017-01-16',\n",
       "   34.85,\n",
       "   35.24,\n",
       "   34.56,\n",
       "   35.07,\n",
       "   None,\n",
       "   47879.0,\n",
       "   1678679.0,\n",
       "   None,\n",
       "   None,\n",
       "   None],\n",
       "  ['2017-01-13',\n",
       "   34.98,\n",
       "   34.98,\n",
       "   34.6,\n",
       "   34.85,\n",
       "   None,\n",
       "   59367.0,\n",
       "   2065534.0,\n",
       "   None,\n",
       "   None,\n",
       "   None],\n",
       "  ['2017-01-12',\n",
       "   35.38,\n",
       "   35.38,\n",
       "   34.31,\n",
       "   34.9,\n",
       "   None,\n",
       "   163860.0,\n",
       "   5703427.0,\n",
       "   None,\n",
       "   None,\n",
       "   None],\n",
       "  ['2017-01-11',\n",
       "   34.95,\n",
       "   36.0,\n",
       "   34.84,\n",
       "   35.42,\n",
       "   None,\n",
       "   123530.0,\n",
       "   4369079.0,\n",
       "   None,\n",
       "   None,\n",
       "   None],\n",
       "  ['2017-01-10',\n",
       "   34.8,\n",
       "   34.98,\n",
       "   34.46,\n",
       "   34.91,\n",
       "   None,\n",
       "   43976.0,\n",
       "   1528055.0,\n",
       "   None,\n",
       "   None,\n",
       "   None],\n",
       "  ['2017-01-09',\n",
       "   35.29,\n",
       "   35.35,\n",
       "   34.43,\n",
       "   34.67,\n",
       "   None,\n",
       "   62225.0,\n",
       "   2157182.0,\n",
       "   None,\n",
       "   None,\n",
       "   None],\n",
       "  ['2017-01-06',\n",
       "   34.91,\n",
       "   35.21,\n",
       "   34.91,\n",
       "   35.04,\n",
       "   None,\n",
       "   27507.0,\n",
       "   964046.0,\n",
       "   None,\n",
       "   None,\n",
       "   None],\n",
       "  ['2017-01-05',\n",
       "   35.02,\n",
       "   35.2,\n",
       "   34.73,\n",
       "   35.06,\n",
       "   None,\n",
       "   48412.0,\n",
       "   1692326.0,\n",
       "   None,\n",
       "   None,\n",
       "   None],\n",
       "  ['2017-01-04',\n",
       "   35.48,\n",
       "   35.51,\n",
       "   34.75,\n",
       "   35.19,\n",
       "   None,\n",
       "   54408.0,\n",
       "   1906810.0,\n",
       "   None,\n",
       "   None,\n",
       "   None],\n",
       "  ['2017-01-03',\n",
       "   35.9,\n",
       "   35.93,\n",
       "   35.34,\n",
       "   35.48,\n",
       "   None,\n",
       "   70618.0,\n",
       "   2515473.0,\n",
       "   None,\n",
       "   None,\n",
       "   None],\n",
       "  ['2017-01-02',\n",
       "   34.99,\n",
       "   35.94,\n",
       "   34.99,\n",
       "   35.8,\n",
       "   None,\n",
       "   44700.0,\n",
       "   1590561.0,\n",
       "   None,\n",
       "   None,\n",
       "   None]],\n",
       " 'collapse': None,\n",
       " 'order': None}"
      ]
     },
     "execution_count": 65,
     "metadata": {},
     "output_type": "execute_result"
    }
   ],
   "source": [
    "#gathering a sample of data\n",
    "url = 'https://www.quandl.com/api/v3/datasets/FSE/AFX_X/data.json?start_date=2017-01-01&end_date=2017-01-30&api_key=""'\n",
    "r = requests.get(url)\n",
    "sample = r.json()\n",
    "\n",
    "sample['dataset_data']"
   ]
  },
  {
   "cell_type": "code",
   "execution_count": 2,
   "metadata": {},
   "outputs": [],
   "source": [
    "#Collect data and Convert the returned JSON object into a Python dictionary\n",
    "url = 'https://www.quandl.com/api/v3/datasets/FSE/AFX_X/data.json?start_date=2017-01-01&end_date=2017-12-31&api_key=""'\n",
    "r = requests.get(url)\n",
    "data = r.json()"
   ]
  },
  {
   "cell_type": "code",
   "execution_count": 3,
   "metadata": {},
   "outputs": [],
   "source": [
    "#Grab the opening prices\n",
    "open_prices = []\n",
    "for i in range(0,len(data['dataset_data']['data'])):\n",
    "    open_prices.append(data['dataset_data']['data'][i][1])\n",
    "    "
   ]
  },
  {
   "cell_type": "code",
   "execution_count": 66,
   "metadata": {},
   "outputs": [],
   "source": [
    "#Calculate what the highest and lowest opening prices were for the stock in this period\n",
    "def max_min(list):\n",
    "    sorted_list = sorted(list)\n",
    "    return '${:,.2f}'.format(sorted_list[-1]) , '${:,.2f}'.format(sorted_list[0])"
   ]
  },
  {
   "cell_type": "code",
   "execution_count": 67,
   "metadata": {},
   "outputs": [
    {
     "data": {
      "text/plain": [
       "('$53.11', '$34.00')"
      ]
     },
     "execution_count": 67,
     "metadata": {},
     "output_type": "execute_result"
    }
   ],
   "source": [
    "max_min(filter(None,open_prices))"
   ]
  },
  {
   "cell_type": "code",
   "execution_count": 36,
   "metadata": {},
   "outputs": [],
   "source": [
    "#What was the largest change in any one day (based on High and Low price)?\n",
    "\n",
    "def change(list):\n",
    "    changes = []\n",
    "    for i in range(0,len(list)):\n",
    "            c = list[i][2] - list[i][3]\n",
    "            changes.append(c)\n",
    "    sort_c = sorted(changes)\n",
    "    return sort_c[-1]\n"
   ]
  },
  {
   "cell_type": "code",
   "execution_count": 59,
   "metadata": {},
   "outputs": [
    {
     "data": {
      "text/plain": [
       "'$2.81'"
      ]
     },
     "execution_count": 59,
     "metadata": {},
     "output_type": "execute_result"
    }
   ],
   "source": [
    "l_change = change(data['dataset_data']['data'])\n",
    "largest_change = '${:,.2f}'.format(l_change)\n",
    "largest_change"
   ]
  },
  {
   "cell_type": "code",
   "execution_count": 39,
   "metadata": {},
   "outputs": [],
   "source": [
    "#What was the largest change between any two days (based on Closing Price)\n",
    "\n",
    "closing = []\n",
    "for i in range(0,len(data['dataset_data']['data'])):\n",
    "    closing.append(data['dataset_data']['data'][i][4])"
   ]
  },
  {
   "cell_type": "code",
   "execution_count": 40,
   "metadata": {},
   "outputs": [],
   "source": [
    "diff = [closing[i+1]-closing[i] for i in range(len(closing)-1)]"
   ]
  },
  {
   "cell_type": "code",
   "execution_count": 57,
   "metadata": {},
   "outputs": [
    {
     "data": {
      "text/plain": [
       "'$2.56'"
      ]
     },
     "execution_count": 57,
     "metadata": {},
     "output_type": "execute_result"
    }
   ],
   "source": [
    "sorted_diff = sorted(diff)\n",
    "l_diff = sorted_diff[-1]\n",
    "largest_diff = '${:,.2f}'.format(l_diff)\n",
    "largest_diff"
   ]
  },
  {
   "cell_type": "code",
   "execution_count": 49,
   "metadata": {},
   "outputs": [],
   "source": [
    "#What was the average daily trading volume during this year?\n",
    "\n",
    "daily_trading = []\n",
    "for i in range(0,len(data['dataset_data']['data'])):\n",
    "    daily_trading.append(data['dataset_data']['data'][i][6])"
   ]
  },
  {
   "cell_type": "code",
   "execution_count": 54,
   "metadata": {},
   "outputs": [
    {
     "data": {
      "text/plain": [
       "False"
      ]
     },
     "execution_count": 54,
     "metadata": {},
     "output_type": "execute_result"
    }
   ],
   "source": [
    "#checking for None values in the daily trading list\n",
    "None in daily_trading"
   ]
  },
  {
   "cell_type": "code",
   "execution_count": 58,
   "metadata": {},
   "outputs": [
    {
     "data": {
      "text/plain": [
       "'$89,124.34'"
      ]
     },
     "execution_count": 58,
     "metadata": {},
     "output_type": "execute_result"
    }
   ],
   "source": [
    "avg_daily_trading = sum(daily_trading)/len(daily_trading)\n",
    "avg_daily_trading = '${:,.2f}'.format(avg_daily_trading)\n",
    "avg_daily_trading"
   ]
  },
  {
   "cell_type": "code",
   "execution_count": 63,
   "metadata": {},
   "outputs": [],
   "source": [
    "#What was the median trading volume during this year\n",
    "\n",
    "def median_f(list):\n",
    "    s_list = sorted(list)\n",
    "    n = len(list)\n",
    "    int(n)\n",
    "    if n% 2 == 1:\n",
    "        return '${:,.2f}'.format(s_list[(n-1)//2])\n",
    "    else:\n",
    "        return '${:,.2f}'.format((s_list[(n-1)//2]+ s_list[(n//2)])//2)"
   ]
  },
  {
   "cell_type": "code",
   "execution_count": 64,
   "metadata": {},
   "outputs": [
    {
     "data": {
      "text/plain": [
       "'$76,286.00'"
      ]
     },
     "execution_count": 64,
     "metadata": {},
     "output_type": "execute_result"
    }
   ],
   "source": [
    "median_f(daily_trading)"
   ]
  },
  {
   "cell_type": "code",
   "execution_count": null,
   "metadata": {},
   "outputs": [],
   "source": []
  }
 ],
 "metadata": {
  "kernelspec": {
   "display_name": "Python 3",
   "language": "python",
   "name": "python3"
  },
  "language_info": {
   "codemirror_mode": {
    "name": "ipython",
    "version": 3
   },
   "file_extension": ".py",
   "mimetype": "text/x-python",
   "name": "python",
   "nbconvert_exporter": "python",
   "pygments_lexer": "ipython3",
   "version": "3.6.4"
  }
 },
 "nbformat": 4,
 "nbformat_minor": 2
}
